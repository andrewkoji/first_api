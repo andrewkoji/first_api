{
 "cells": [
  {
   "cell_type": "code",
   "execution_count": 364,
   "id": "0f2b2c0c-4278-4d3a-98a7-c7359eeffe44",
   "metadata": {},
   "outputs": [
    {
     "name": "stdout",
     "output_type": "stream",
     "text": [
      "linear function: y = -2x + 6\n",
      "quadratic function:y = x^2 - 7x - 18\n",
      "factored function:x^2 - 5x - 24 = 0\n",
      "factors: (x + 3)(x - 8) = 0\n",
      "roots: [x = - 3, x =  8]\n",
      "Solutions:\n",
      "(-3, 12) and (8, -10)\n"
     ]
    }
   ],
   "source": [
    "import math\n",
    "import numpy as np\n",
    "import pandas as pd\n",
    "\n",
    "def quad_linear_system():\n",
    "    while True:\n",
    "        #picking a range of numbers that students are likely to see on the regents. all answers are expected to come out as whole numbers\n",
    "        x = np.random.randint(-10, 10)\n",
    "        c = np.random.randint(-10, 10)\n",
    "        e = np.random.randint(-50, 50)\n",
    "        d = np.random.randint(-5, 5)\n",
    "        f = np.random.randint(-10, 10)\n",
    "\n",
    "        #linear function: y = dx + f, coded to read prettier\n",
    "        linear = f\"y = {'' if d > 0 else '-'}{abs(d)}x {'+ ' if f > 0 else '- '}{abs(f)}\"\n",
    "        #quadratic function: y = x^2 + cx + e, coded to read prettier\n",
    "        quadratic = f\"y = x^2 {'+ ' if c > 0 else '- '}{abs(c)}x {'+ ' if e > 0 else '- '}{abs(e)}\"\n",
    "\n",
    "        # this is the code to get the function after set into standard form after substituting the linear function in for y\n",
    "        # example: y = 2x - 8, y = x^2 - 2x - 40 ----> 2x - 8 = x^2 - 2x - 40 ----> subtract 2x to both sides and add 8 to both sides\n",
    "        b = c - d\n",
    "        a = e - f\n",
    "        #this is the result after the subtraction step: x^2 - 4x - 32\n",
    "        factored_function = f\"x^2 {'+ ' if b > 0 else '- '}{abs(b)}x {'+ ' if a > 0 else '- '}{abs(a)}\"\n",
    "        if a == 0:\n",
    "            continue\n",
    "        \n",
    "        factors = [(i, a // i) for i in range(1, abs(a) + 1) if a % i == 0]\n",
    "        \n",
    "        for i, j in factors:\n",
    "            if i + j == b:\n",
    "                return f\"linear function: {linear}\\nquadratic function:{quadratic}\\nfactored function:{factored_function} = 0\\nfactors: (x {'-' if i < 0 else '+'} {abs(i)})(x {'-' if j < 0 else '+'} {abs(j)}) = 0\\nroots: [x = {'' if i < 0 else '-'} {abs(i)}, x = {'' if j < 0 else '-'} {abs(j)}]\\nSolutions:\\n({-i}, {-i*d + f}) and ({-j}, {-j*d + f})\"\n",
    "            elif i + j == -b:\n",
    "                return f\"linear function: {linear}\\nquadratic function:{quadratic}\\nfactored function:{factored_function} = 0\\nfactors: (x {'+' if i < 0 else '-'} {abs(i)})(x {'+' if j < 0 else '-'} {abs(j)}) = 0\\nroots: [x = {'-' if i < 0 else ''} {abs(i)}, x = {'-' if j < 0 else ''} {abs(j)}]\\nSolutions:\\n({i}, {i*d + f}) and ({j}, {j*d + f})\"\n",
    "            elif -i + (-j) == b:\n",
    "                return f\"(x {'+' if -i > 0 else '-'} {abs(-i)})(x {'+' if -j > 0 else '-'} {abs(-j)}) = 0, f(x) = g(x) at x = [{i}, {j}]\"\n",
    "            \n",
    "\n",
    "print(quad_linear_system())\n",
    "\n",
    "    \n"
   ]
  },
  {
   "cell_type": "code",
   "execution_count": 370,
   "id": "68856d35-5a02-4b06-88a7-ca82e1f65d79",
   "metadata": {},
   "outputs": [
    {
     "name": "stdout",
     "output_type": "stream",
     "text": [
      "linear function: y = 3x - 4\n",
      "quadratic function:y = x^2 - 8x + 14\n",
      "factored function:x^2 - 11x + 18 = 0\n",
      "factors: (x - 2)(x - 9) = 0\n",
      "roots: [x =  2, x =  9]\n",
      "Solutions:\n",
      "(2, 2) and (9, 23)\n"
     ]
    }
   ],
   "source": [
    "print(quad_linear_system())"
   ]
  },
  {
   "cell_type": "code",
   "execution_count": null,
   "id": "48152dd2-110b-42bc-9bd9-816663a5bb2e",
   "metadata": {},
   "outputs": [],
   "source": []
  },
  {
   "cell_type": "code",
   "execution_count": null,
   "id": "31f39393-ff13-42be-be7e-389372a27582",
   "metadata": {},
   "outputs": [],
   "source": []
  }
 ],
 "metadata": {
  "kernelspec": {
   "display_name": "Python 3 (ipykernel)",
   "language": "python",
   "name": "python3"
  },
  "language_info": {
   "codemirror_mode": {
    "name": "ipython",
    "version": 3
   },
   "file_extension": ".py",
   "mimetype": "text/x-python",
   "name": "python",
   "nbconvert_exporter": "python",
   "pygments_lexer": "ipython3",
   "version": "3.12.7"
  }
 },
 "nbformat": 4,
 "nbformat_minor": 5
}
